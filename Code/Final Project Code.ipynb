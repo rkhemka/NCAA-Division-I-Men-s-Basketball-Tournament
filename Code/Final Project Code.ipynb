{
 "cells": [
  {
   "cell_type": "markdown",
   "metadata": {},
   "source": [
    "## Imports  "
   ]
  },
  {
   "cell_type": "code",
   "execution_count": 1,
   "metadata": {},
   "outputs": [
    {
     "name": "stderr",
     "output_type": "stream",
     "text": [
      "C:\\Users\\rajat\\Anaconda3\\lib\\site-packages\\sklearn\\cross_validation.py:41: DeprecationWarning: This module was deprecated in version 0.18 in favor of the model_selection module into which all the refactored classes and functions are moved. Also note that the interface of the new CV iterators are different from that of this module. This module will be removed in 0.20.\n",
      "  \"This module will be removed in 0.20.\", DeprecationWarning)\n"
     ]
    }
   ],
   "source": [
    "import numpy as np \n",
    "import pandas as pd\n",
    "from sklearn.linear_model import LogisticRegression\n",
    "from sklearn.metrics import accuracy_score\n",
    "from sklearn.utils import shuffle\n",
    "from sklearn.model_selection import GridSearchCV\n",
    "from sklearn import metrics\n",
    "import pandas as pd\n",
    "import numpy as np\n",
    "from sklearn.cross_validation import train_test_split\n",
    "from sklearn import svm\n",
    "from sklearn.svm import SVC\n",
    "from sklearn import linear_model\n",
    "from sklearn import tree\n",
    "from sklearn.cross_validation import cross_val_score\n",
    "from sklearn.tree import DecisionTreeClassifier\n",
    "from sklearn.neighbors import KNeighborsClassifier\n",
    "from sklearn.ensemble import RandomForestClassifier\n",
    "from sklearn.ensemble import AdaBoostClassifier\n",
    "from sklearn.ensemble import GradientBoostingClassifier\n",
    "from sklearn.ensemble import GradientBoostingRegressor\n",
    "import math\n",
    "import csv\n",
    "%matplotlib inline\n",
    "from sklearn.ensemble import VotingClassifier\n",
    "from sklearn.metrics import classification_report"
   ]
  },
  {
   "cell_type": "markdown",
   "metadata": {},
   "source": [
    "## Reading the data from disk"
   ]
  },
  {
   "cell_type": "code",
   "execution_count": 2,
   "metadata": {},
   "outputs": [],
   "source": [
    "dataset =\"C:/Users/rajat/Downloads/Spring 2018/DS Project Data/input\"\n",
    "df_seeds = pd.read_csv(dataset + \"/removeString.csv\")\n",
    "detailedResults1 = pd.read_csv(dataset + \"/RegularSeasonDetailedResults1.csv\")\n",
    "df_sample_sub = pd.read_csv(dataset + \"/SampleSubmissionStage1.csv\")\n",
    "merge = pd.read_csv(dataset + \"/merge.csv\")\n",
    "sub = pd.read_csv(dataset + '/label.csv')\n",
    "z =sub['Seed']\n",
    "\n",
    "# Give Details about games \n",
    "e2010 = pd.read_csv(dataset + \"/Events_2010.csv\")\n",
    "e2011 = pd.read_csv(dataset + \"/Events_2011.csv\")\n",
    "e2012 = pd.read_csv(dataset + \"/Events_2012.csv\")\n",
    "e2013 = pd.read_csv(dataset + \"/Events_2013.csv\")\n",
    "e2014 = pd.read_csv(dataset + \"/Events_2014.csv\")\n",
    "e2015 = pd.read_csv(dataset + \"/Events_2015.csv\")\n",
    "e2016 = pd.read_csv(dataset + \"/Events_2016.csv\")\n",
    "e2017 = pd.read_csv(dataset + \"/Events_2017.csv\")\n",
    "# Give Details about players in respective team \n",
    "p2010 = pd.read_csv(dataset + \"/Players_2010.csv\")\n",
    "p2011 = pd.read_csv(dataset + \"/Players_2011.csv\")\n",
    "p2012 = pd.read_csv(dataset + \"/Players_2012.csv\")\n",
    "p2013 = pd.read_csv(dataset + \"/Players_2013.csv\")\n",
    "p2014 = pd.read_csv(dataset + \"/Players_2014.csv\")\n",
    "p2015 = pd.read_csv(dataset + \"/Players_2015.csv\")\n",
    "p2016 = pd.read_csv(dataset + \"/Players_2016.csv\")\n",
    "p2017 = pd.read_csv(dataset + \"/Players_2017.csv\")\n",
    "\n",
    "city = pd.read_csv(dataset + \"/Cities.csv\")\n",
    "combinedEvents = pd.read_csv(dataset + \"/Events2010-2017Combined.csv\")"
   ]
  },
  {
   "cell_type": "code",
   "execution_count": 3,
   "metadata": {},
   "outputs": [
    {
     "data": {
      "text/html": [
       "<div>\n",
       "<style scoped>\n",
       "    .dataframe tbody tr th:only-of-type {\n",
       "        vertical-align: middle;\n",
       "    }\n",
       "\n",
       "    .dataframe tbody tr th {\n",
       "        vertical-align: top;\n",
       "    }\n",
       "\n",
       "    .dataframe thead th {\n",
       "        text-align: right;\n",
       "    }\n",
       "</style>\n",
       "<table border=\"1\" class=\"dataframe\">\n",
       "  <thead>\n",
       "    <tr style=\"text-align: right;\">\n",
       "      <th></th>\n",
       "      <th>CityID</th>\n",
       "      <th>City</th>\n",
       "      <th>State</th>\n",
       "    </tr>\n",
       "  </thead>\n",
       "  <tbody>\n",
       "    <tr>\n",
       "      <th>0</th>\n",
       "      <td>4001</td>\n",
       "      <td>Abilene</td>\n",
       "      <td>TX</td>\n",
       "    </tr>\n",
       "    <tr>\n",
       "      <th>1</th>\n",
       "      <td>4002</td>\n",
       "      <td>Akron</td>\n",
       "      <td>OH</td>\n",
       "    </tr>\n",
       "    <tr>\n",
       "      <th>2</th>\n",
       "      <td>4003</td>\n",
       "      <td>Albany</td>\n",
       "      <td>NY</td>\n",
       "    </tr>\n",
       "    <tr>\n",
       "      <th>3</th>\n",
       "      <td>4004</td>\n",
       "      <td>Albuquerque</td>\n",
       "      <td>NM</td>\n",
       "    </tr>\n",
       "    <tr>\n",
       "      <th>4</th>\n",
       "      <td>4005</td>\n",
       "      <td>Allentown</td>\n",
       "      <td>PA</td>\n",
       "    </tr>\n",
       "  </tbody>\n",
       "</table>\n",
       "</div>"
      ],
      "text/plain": [
       "   CityID         City State\n",
       "0    4001      Abilene    TX\n",
       "1    4002        Akron    OH\n",
       "2    4003       Albany    NY\n",
       "3    4004  Albuquerque    NM\n",
       "4    4005    Allentown    PA"
      ]
     },
     "execution_count": 3,
     "metadata": {},
     "output_type": "execute_result"
    }
   ],
   "source": [
    "city.head()"
   ]
  },
  {
   "cell_type": "code",
   "execution_count": 4,
   "metadata": {},
   "outputs": [
    {
     "data": {
      "text/html": [
       "<div>\n",
       "<style scoped>\n",
       "    .dataframe tbody tr th:only-of-type {\n",
       "        vertical-align: middle;\n",
       "    }\n",
       "\n",
       "    .dataframe tbody tr th {\n",
       "        vertical-align: top;\n",
       "    }\n",
       "\n",
       "    .dataframe thead th {\n",
       "        text-align: right;\n",
       "    }\n",
       "</style>\n",
       "<table border=\"1\" class=\"dataframe\">\n",
       "  <thead>\n",
       "    <tr style=\"text-align: right;\">\n",
       "      <th></th>\n",
       "      <th>EventID</th>\n",
       "      <th>Season</th>\n",
       "      <th>DayNum</th>\n",
       "      <th>WTeamID</th>\n",
       "      <th>LTeamID</th>\n",
       "      <th>WPoints</th>\n",
       "      <th>LPoints</th>\n",
       "      <th>ElapsedSeconds</th>\n",
       "      <th>EventTeamID</th>\n",
       "      <th>EventPlayerID</th>\n",
       "      <th>EventType</th>\n",
       "    </tr>\n",
       "  </thead>\n",
       "  <tbody>\n",
       "    <tr>\n",
       "      <th>0</th>\n",
       "      <td>5023038</td>\n",
       "      <td>2012</td>\n",
       "      <td>7</td>\n",
       "      <td>1112</td>\n",
       "      <td>1434</td>\n",
       "      <td>0</td>\n",
       "      <td>0</td>\n",
       "      <td>12</td>\n",
       "      <td>1434</td>\n",
       "      <td>615313</td>\n",
       "      <td>foul_pers</td>\n",
       "    </tr>\n",
       "    <tr>\n",
       "      <th>1</th>\n",
       "      <td>5023039</td>\n",
       "      <td>2012</td>\n",
       "      <td>7</td>\n",
       "      <td>1112</td>\n",
       "      <td>1434</td>\n",
       "      <td>0</td>\n",
       "      <td>0</td>\n",
       "      <td>25</td>\n",
       "      <td>1112</td>\n",
       "      <td>610654</td>\n",
       "      <td>miss2_jump</td>\n",
       "    </tr>\n",
       "    <tr>\n",
       "      <th>2</th>\n",
       "      <td>5023040</td>\n",
       "      <td>2012</td>\n",
       "      <td>7</td>\n",
       "      <td>1112</td>\n",
       "      <td>1434</td>\n",
       "      <td>0</td>\n",
       "      <td>0</td>\n",
       "      <td>25</td>\n",
       "      <td>1434</td>\n",
       "      <td>615322</td>\n",
       "      <td>reb_def</td>\n",
       "    </tr>\n",
       "    <tr>\n",
       "      <th>3</th>\n",
       "      <td>5023041</td>\n",
       "      <td>2012</td>\n",
       "      <td>7</td>\n",
       "      <td>1112</td>\n",
       "      <td>1434</td>\n",
       "      <td>0</td>\n",
       "      <td>0</td>\n",
       "      <td>35</td>\n",
       "      <td>1434</td>\n",
       "      <td>615312</td>\n",
       "      <td>miss3_jump</td>\n",
       "    </tr>\n",
       "    <tr>\n",
       "      <th>4</th>\n",
       "      <td>5023042</td>\n",
       "      <td>2012</td>\n",
       "      <td>7</td>\n",
       "      <td>1112</td>\n",
       "      <td>1434</td>\n",
       "      <td>0</td>\n",
       "      <td>0</td>\n",
       "      <td>35</td>\n",
       "      <td>1112</td>\n",
       "      <td>610654</td>\n",
       "      <td>reb_def</td>\n",
       "    </tr>\n",
       "  </tbody>\n",
       "</table>\n",
       "</div>"
      ],
      "text/plain": [
       "   EventID  Season  DayNum  WTeamID  LTeamID  WPoints  LPoints  \\\n",
       "0  5023038    2012       7     1112     1434        0        0   \n",
       "1  5023039    2012       7     1112     1434        0        0   \n",
       "2  5023040    2012       7     1112     1434        0        0   \n",
       "3  5023041    2012       7     1112     1434        0        0   \n",
       "4  5023042    2012       7     1112     1434        0        0   \n",
       "\n",
       "   ElapsedSeconds  EventTeamID  EventPlayerID   EventType  \n",
       "0              12         1434         615313   foul_pers  \n",
       "1              25         1112         610654  miss2_jump  \n",
       "2              25         1434         615322     reb_def  \n",
       "3              35         1434         615312  miss3_jump  \n",
       "4              35         1112         610654     reb_def  "
      ]
     },
     "execution_count": 4,
     "metadata": {},
     "output_type": "execute_result"
    }
   ],
   "source": [
    "e2012.head()"
   ]
  },
  {
   "cell_type": "code",
   "execution_count": 6,
   "metadata": {},
   "outputs": [
    {
     "data": {
      "text/html": [
       "<div>\n",
       "<style scoped>\n",
       "    .dataframe tbody tr th:only-of-type {\n",
       "        vertical-align: middle;\n",
       "    }\n",
       "\n",
       "    .dataframe tbody tr th {\n",
       "        vertical-align: top;\n",
       "    }\n",
       "\n",
       "    .dataframe thead th {\n",
       "        text-align: right;\n",
       "    }\n",
       "</style>\n",
       "<table border=\"1\" class=\"dataframe\">\n",
       "  <thead>\n",
       "    <tr style=\"text-align: right;\">\n",
       "      <th></th>\n",
       "      <th>Season</th>\n",
       "      <th>DayNum</th>\n",
       "      <th>WTeamID</th>\n",
       "      <th>WScore</th>\n",
       "      <th>LTeamID</th>\n",
       "      <th>LScore</th>\n",
       "      <th>NumOT</th>\n",
       "      <th>WFGM</th>\n",
       "      <th>WFGA</th>\n",
       "      <th>WFGM3</th>\n",
       "      <th>...</th>\n",
       "      <th>LFGA3</th>\n",
       "      <th>LFTM</th>\n",
       "      <th>LFTA</th>\n",
       "      <th>LOR</th>\n",
       "      <th>LDR</th>\n",
       "      <th>LAst</th>\n",
       "      <th>LTO</th>\n",
       "      <th>LStl</th>\n",
       "      <th>LBlk</th>\n",
       "      <th>LPF</th>\n",
       "    </tr>\n",
       "  </thead>\n",
       "  <tbody>\n",
       "    <tr>\n",
       "      <th>0</th>\n",
       "      <td>2003</td>\n",
       "      <td>10</td>\n",
       "      <td>1104</td>\n",
       "      <td>68</td>\n",
       "      <td>1328</td>\n",
       "      <td>62</td>\n",
       "      <td>0</td>\n",
       "      <td>27</td>\n",
       "      <td>58</td>\n",
       "      <td>3</td>\n",
       "      <td>...</td>\n",
       "      <td>10</td>\n",
       "      <td>16</td>\n",
       "      <td>22</td>\n",
       "      <td>10</td>\n",
       "      <td>22</td>\n",
       "      <td>8</td>\n",
       "      <td>18</td>\n",
       "      <td>9</td>\n",
       "      <td>2</td>\n",
       "      <td>20</td>\n",
       "    </tr>\n",
       "    <tr>\n",
       "      <th>1</th>\n",
       "      <td>2003</td>\n",
       "      <td>10</td>\n",
       "      <td>1272</td>\n",
       "      <td>70</td>\n",
       "      <td>1393</td>\n",
       "      <td>63</td>\n",
       "      <td>0</td>\n",
       "      <td>26</td>\n",
       "      <td>62</td>\n",
       "      <td>8</td>\n",
       "      <td>...</td>\n",
       "      <td>24</td>\n",
       "      <td>9</td>\n",
       "      <td>20</td>\n",
       "      <td>20</td>\n",
       "      <td>25</td>\n",
       "      <td>7</td>\n",
       "      <td>12</td>\n",
       "      <td>8</td>\n",
       "      <td>6</td>\n",
       "      <td>16</td>\n",
       "    </tr>\n",
       "    <tr>\n",
       "      <th>2</th>\n",
       "      <td>2003</td>\n",
       "      <td>11</td>\n",
       "      <td>1266</td>\n",
       "      <td>73</td>\n",
       "      <td>1437</td>\n",
       "      <td>61</td>\n",
       "      <td>0</td>\n",
       "      <td>24</td>\n",
       "      <td>58</td>\n",
       "      <td>8</td>\n",
       "      <td>...</td>\n",
       "      <td>26</td>\n",
       "      <td>14</td>\n",
       "      <td>23</td>\n",
       "      <td>31</td>\n",
       "      <td>22</td>\n",
       "      <td>9</td>\n",
       "      <td>12</td>\n",
       "      <td>2</td>\n",
       "      <td>5</td>\n",
       "      <td>23</td>\n",
       "    </tr>\n",
       "    <tr>\n",
       "      <th>3</th>\n",
       "      <td>2003</td>\n",
       "      <td>11</td>\n",
       "      <td>1296</td>\n",
       "      <td>56</td>\n",
       "      <td>1457</td>\n",
       "      <td>50</td>\n",
       "      <td>0</td>\n",
       "      <td>18</td>\n",
       "      <td>38</td>\n",
       "      <td>3</td>\n",
       "      <td>...</td>\n",
       "      <td>22</td>\n",
       "      <td>8</td>\n",
       "      <td>15</td>\n",
       "      <td>17</td>\n",
       "      <td>20</td>\n",
       "      <td>9</td>\n",
       "      <td>19</td>\n",
       "      <td>4</td>\n",
       "      <td>3</td>\n",
       "      <td>23</td>\n",
       "    </tr>\n",
       "    <tr>\n",
       "      <th>4</th>\n",
       "      <td>2003</td>\n",
       "      <td>11</td>\n",
       "      <td>1400</td>\n",
       "      <td>77</td>\n",
       "      <td>1208</td>\n",
       "      <td>71</td>\n",
       "      <td>0</td>\n",
       "      <td>30</td>\n",
       "      <td>61</td>\n",
       "      <td>6</td>\n",
       "      <td>...</td>\n",
       "      <td>16</td>\n",
       "      <td>17</td>\n",
       "      <td>27</td>\n",
       "      <td>21</td>\n",
       "      <td>15</td>\n",
       "      <td>12</td>\n",
       "      <td>10</td>\n",
       "      <td>7</td>\n",
       "      <td>1</td>\n",
       "      <td>14</td>\n",
       "    </tr>\n",
       "  </tbody>\n",
       "</table>\n",
       "<p>5 rows × 33 columns</p>\n",
       "</div>"
      ],
      "text/plain": [
       "   Season  DayNum  WTeamID  WScore  LTeamID  LScore  NumOT  WFGM  WFGA  WFGM3  \\\n",
       "0    2003      10     1104      68     1328      62      0    27    58      3   \n",
       "1    2003      10     1272      70     1393      63      0    26    62      8   \n",
       "2    2003      11     1266      73     1437      61      0    24    58      8   \n",
       "3    2003      11     1296      56     1457      50      0    18    38      3   \n",
       "4    2003      11     1400      77     1208      71      0    30    61      6   \n",
       "\n",
       "  ...   LFGA3  LFTM  LFTA  LOR  LDR  LAst  LTO  LStl  LBlk  LPF  \n",
       "0 ...      10    16    22   10   22     8   18     9     2   20  \n",
       "1 ...      24     9    20   20   25     7   12     8     6   16  \n",
       "2 ...      26    14    23   31   22     9   12     2     5   23  \n",
       "3 ...      22     8    15   17   20     9   19     4     3   23  \n",
       "4 ...      16    17    27   21   15    12   10     7     1   14  \n",
       "\n",
       "[5 rows x 33 columns]"
      ]
     },
     "execution_count": 6,
     "metadata": {},
     "output_type": "execute_result"
    }
   ],
   "source": [
    "combinedEvents.head()"
   ]
  },
  {
   "cell_type": "code",
   "execution_count": 7,
   "metadata": {},
   "outputs": [
    {
     "data": {
      "text/plain": [
       "array([[2003,   10, 1104, ...,    9,    2,   20],\n",
       "       [2003,   10, 1272, ...,    8,    6,   16],\n",
       "       [2003,   11, 1266, ...,    2,    5,   23],\n",
       "       ..., \n",
       "       [2017,  132, 1348, ...,    4,    1,   16],\n",
       "       [2017,  132, 1374, ...,    7,    1,   13],\n",
       "       [2017,  132, 1407, ...,    1,    7,   18]], dtype=int64)"
      ]
     },
     "execution_count": 7,
     "metadata": {},
     "output_type": "execute_result"
    }
   ],
   "source": [
    "from sklearn.feature_selection import VarianceThreshold\n",
    "sel = VarianceThreshold(threshold=(.7 * (1 - .7)))\n",
    "train_Selection =sel.fit_transform(combinedEvents)\n",
    "\n",
    "train_Selection"
   ]
  },
  {
   "cell_type": "code",
   "execution_count": 8,
   "metadata": {},
   "outputs": [
    {
     "data": {
      "text/plain": [
       "array([ 0.45994048,  0.45058066,  0.05197628,  0.01268327,  0.00565427,\n",
       "        0.00389232,  0.00252148,  0.0023662 ,  0.0019776 ,  0.00147054,\n",
       "        0.00124738,  0.00116496,  0.00084775,  0.00073183,  0.00062713])"
      ]
     },
     "execution_count": 8,
     "metadata": {},
     "output_type": "execute_result"
    }
   ],
   "source": [
    "from sklearn.decomposition import PCA\n",
    "pca = PCA(n_components=15)\n",
    "pca.fit(combinedEvents)\n",
    "pca.explained_variance_ratio_"
   ]
  },
  {
   "cell_type": "code",
   "execution_count": 9,
   "metadata": {},
   "outputs": [
    {
     "data": {
      "text/html": [
       "<div>\n",
       "<style scoped>\n",
       "    .dataframe tbody tr th:only-of-type {\n",
       "        vertical-align: middle;\n",
       "    }\n",
       "\n",
       "    .dataframe tbody tr th {\n",
       "        vertical-align: top;\n",
       "    }\n",
       "\n",
       "    .dataframe thead th {\n",
       "        text-align: right;\n",
       "    }\n",
       "</style>\n",
       "<table border=\"1\" class=\"dataframe\">\n",
       "  <thead>\n",
       "    <tr style=\"text-align: right;\">\n",
       "      <th></th>\n",
       "      <th>Season</th>\n",
       "      <th>TeamID</th>\n",
       "      <th>seed_int</th>\n",
       "    </tr>\n",
       "  </thead>\n",
       "  <tbody>\n",
       "    <tr>\n",
       "      <th>0</th>\n",
       "      <td>2010</td>\n",
       "      <td>1246</td>\n",
       "      <td>1</td>\n",
       "    </tr>\n",
       "    <tr>\n",
       "      <th>1</th>\n",
       "      <td>2010</td>\n",
       "      <td>1452</td>\n",
       "      <td>2</td>\n",
       "    </tr>\n",
       "    <tr>\n",
       "      <th>2</th>\n",
       "      <td>2010</td>\n",
       "      <td>1307</td>\n",
       "      <td>3</td>\n",
       "    </tr>\n",
       "    <tr>\n",
       "      <th>3</th>\n",
       "      <td>2010</td>\n",
       "      <td>1458</td>\n",
       "      <td>4</td>\n",
       "    </tr>\n",
       "    <tr>\n",
       "      <th>4</th>\n",
       "      <td>2010</td>\n",
       "      <td>1396</td>\n",
       "      <td>5</td>\n",
       "    </tr>\n",
       "  </tbody>\n",
       "</table>\n",
       "</div>"
      ],
      "text/plain": [
       "   Season  TeamID  seed_int\n",
       "0    2010    1246         1\n",
       "1    2010    1452         2\n",
       "2    2010    1307         3\n",
       "3    2010    1458         4\n",
       "4    2010    1396         5"
      ]
     },
     "execution_count": 9,
     "metadata": {},
     "output_type": "execute_result"
    }
   ],
   "source": [
    "df_seeds.head()"
   ]
  },
  {
   "cell_type": "code",
   "execution_count": 10,
   "metadata": {},
   "outputs": [
    {
     "data": {
      "text/html": [
       "<div>\n",
       "<style scoped>\n",
       "    .dataframe tbody tr th:only-of-type {\n",
       "        vertical-align: middle;\n",
       "    }\n",
       "\n",
       "    .dataframe tbody tr th {\n",
       "        vertical-align: top;\n",
       "    }\n",
       "\n",
       "    .dataframe thead th {\n",
       "        text-align: right;\n",
       "    }\n",
       "</style>\n",
       "<table border=\"1\" class=\"dataframe\">\n",
       "  <thead>\n",
       "    <tr style=\"text-align: right;\">\n",
       "      <th></th>\n",
       "      <th>SeedDiff</th>\n",
       "      <th>Result</th>\n",
       "    </tr>\n",
       "  </thead>\n",
       "  <tbody>\n",
       "    <tr>\n",
       "      <th>0</th>\n",
       "      <td>-5</td>\n",
       "      <td>1</td>\n",
       "    </tr>\n",
       "    <tr>\n",
       "      <th>1</th>\n",
       "      <td>-12</td>\n",
       "      <td>1</td>\n",
       "    </tr>\n",
       "    <tr>\n",
       "      <th>2</th>\n",
       "      <td>-4</td>\n",
       "      <td>1</td>\n",
       "    </tr>\n",
       "    <tr>\n",
       "      <th>3</th>\n",
       "      <td>-9</td>\n",
       "      <td>1</td>\n",
       "    </tr>\n",
       "    <tr>\n",
       "      <th>4</th>\n",
       "      <td>-6</td>\n",
       "      <td>1</td>\n",
       "    </tr>\n",
       "  </tbody>\n",
       "</table>\n",
       "</div>"
      ],
      "text/plain": [
       "   SeedDiff  Result\n",
       "0        -5       1\n",
       "1       -12       1\n",
       "2        -4       1\n",
       "3        -9       1\n",
       "4        -6       1"
      ]
     },
     "execution_count": 10,
     "metadata": {},
     "output_type": "execute_result"
    }
   ],
   "source": [
    "#Calculating SEED which is used by classifiers to predict the accuracy \n",
    "#Results which is used for Probability\n",
    "#Seed is 1 if team wins a MAtch and 0 if they lose the match\n",
    "winningTeam = pd.DataFrame()\n",
    "winningTeam['SeedDiff'] = merge['SeedDiff']\n",
    "winningTeam['Result'] = 1\n",
    "\n",
    "lossingTeam = pd.DataFrame()\n",
    "lossingTeam['SeedDiff'] = -merge['SeedDiff']\n",
    "lossingTeam['Result'] = 0\n",
    "\n",
    "df_predictions = pd.concat((winningTeam, lossingTeam))\n",
    "#Contains all data required for predictions\n",
    "df_predictions.head()"
   ]
  },
  {
   "cell_type": "markdown",
   "metadata": {},
   "source": [
    "### Training The Models"
   ]
  },
  {
   "cell_type": "markdown",
   "metadata": {},
   "source": [
    "### Logistic Regression (Using Log Loss)"
   ]
  },
  {
   "cell_type": "code",
   "execution_count": 18,
   "metadata": {},
   "outputs": [
    {
     "name": "stdout",
     "output_type": "stream",
     "text": [
      "Best log_loss: -0.584, with best C: 0.01\n"
     ]
    }
   ],
   "source": [
    "X_train, X_test, y_train, y_test = train_test_split(df_predictions, z, random_state=0)\n",
    "logreg = LogisticRegression()\n",
    "params = {'C': np.logspace(start=-5, stop=3, num=9)}\n",
    "clf = GridSearchCV(logreg, params, scoring='neg_log_loss', refit=True)\n",
    "clf.fit(X_train, y_train)\n",
    "print('Best log_loss: {:.04}, with best C: {}'.format(clf.best_score_, clf.best_params_['C']))"
   ]
  },
  {
   "cell_type": "markdown",
   "metadata": {},
   "source": [
    "###  Logistic Regression (Using Accuracy)"
   ]
  },
  {
   "cell_type": "code",
   "execution_count": 146,
   "metadata": {},
   "outputs": [
    {
     "name": "stdout",
     "output_type": "stream",
     "text": [
      "Accuracy Using Logistic Regression 0.6963636363636364\n"
     ]
    }
   ],
   "source": [
    "#X_train, X_test, y_train, y_test = train_test_split(df_predictions, z, random_state=0)\n",
    "logreg = LogisticRegression()\n",
    "params = {'C': np.logspace(start=0, stop=8, num=9)}\n",
    "clf = GridSearchCV(logreg, params, scoring='accuracy', refit=True)\n",
    "clf.fit(X_train, y_train)\n",
    "print('Accuracy Using Logistic Regression {}'.format(clf.best_score_, clf.best_params_['C']))"
   ]
  },
  {
   "cell_type": "markdown",
   "metadata": {},
   "source": [
    "## Decision Tree "
   ]
  },
  {
   "cell_type": "code",
   "execution_count": 19,
   "metadata": {},
   "outputs": [
    {
     "name": "stdout",
     "output_type": "stream",
     "text": [
      "Accuracy Using Cross Validation With Decision Tree 0.677276521574\n"
     ]
    },
    {
     "name": "stderr",
     "output_type": "stream",
     "text": [
      "C:\\Users\\rajat\\Anaconda3\\lib\\site-packages\\sklearn\\cross_validation.py:553: Warning: The least populated class in y has only 1 members, which is too few. The minimum number of labels for any class cannot be less than n_folds=10.\n",
      "  % (min_labels, self.n_folds)), Warning)\n"
     ]
    }
   ],
   "source": [
    "# importing the method:\n",
    "from sklearn.cross_validation import cross_val_score\n",
    "decisionTree = DecisionTreeClassifier()\n",
    "accuracy_list = cross_val_score(decisionTree,df_predictions, z, cv=10, scoring='accuracy')\n",
    "accuracy_gb = accuracy_list.mean()\n",
    "print(\"Accuracy Using Cross Validation With Decision Tree\",accuracy_gb)"
   ]
  },
  {
   "cell_type": "markdown",
   "metadata": {},
   "source": [
    "## Gradient Boosting Classifier "
   ]
  },
  {
   "cell_type": "code",
   "execution_count": 144,
   "metadata": {},
   "outputs": [
    {
     "name": "stdout",
     "output_type": "stream",
     "text": [
      "Accuracy With Gradient Boosting 0.691437802908\n"
     ]
    }
   ],
   "source": [
    "from sklearn.ensemble import GradientBoostingClassifier\n",
    "from sklearn.model_selection import train_test_split\n",
    "\n",
    "X_train, X_test, y_train, y_test = train_test_split(df_predictions, z, random_state=2)\n",
    "clf = GradientBoostingClassifier(n_estimators=100, max_depth=4)\n",
    "clf.fit(X_train, y_train)\n",
    "\n",
    "x1 =clf.score(X_test, y_test) \n",
    "print(\"Accuracy With Gradient Boosting\",x1)"
   ]
  },
  {
   "cell_type": "markdown",
   "metadata": {},
   "source": [
    "## Support Vector Classification "
   ]
  },
  {
   "cell_type": "code",
   "execution_count": 85,
   "metadata": {},
   "outputs": [
    {
     "name": "stdout",
     "output_type": "stream",
     "text": [
      "Accuracy With Support Vector Classificcation 0.692245557351\n"
     ]
    }
   ],
   "source": [
    "from sklearn.svm import SVC\n",
    "from sklearn import svm\n",
    "\n",
    "X_train, X_test, y_train, y_test = train_test_split(df_predictions, z, random_state=0)\n",
    "\n",
    "clf = svm.SVC().fit(X_train, y_train)\n",
    "\n",
    "x1 =clf.score(X_test, y_test)\n",
    "\n",
    "print(\"Accuracy With Support Vector Classificcation\",x1)"
   ]
  },
  {
   "cell_type": "markdown",
   "metadata": {},
   "source": [
    "## Random Forest"
   ]
  },
  {
   "cell_type": "code",
   "execution_count": 21,
   "metadata": {},
   "outputs": [
    {
     "name": "stdout",
     "output_type": "stream",
     "text": [
      "Accuracy With Random Forest:  0.707661290323\n"
     ]
    }
   ],
   "source": [
    "from sklearn.metrics import accuracy_score\n",
    "X_train, X_test, y_train, y_test = train_test_split(df_predictions, z, test_size=0.1, random_state=1)\n",
    "\n",
    "rf_model =  RandomForestClassifier(n_estimators=60)\n",
    "rf_model.fit(X_train, y_train)\n",
    "\n",
    "\n",
    "# Scoring based on the train RF Model\n",
    "predictions = rf_model.predict(X_test)\n",
    "predictions\n",
    "accuracyDt = accuracy_score(y_test, predictions)\n",
    "\n",
    "print(\"Accuracy With Random Forest: \", accuracyDt)"
   ]
  },
  {
   "cell_type": "markdown",
   "metadata": {},
   "source": [
    "## KNN"
   ]
  },
  {
   "cell_type": "code",
   "execution_count": 11,
   "metadata": {},
   "outputs": [
    {
     "name": "stdout",
     "output_type": "stream",
     "text": [
      "Accuracy With KNN 0.667205169628\n"
     ]
    }
   ],
   "source": [
    "k=25\n",
    "\n",
    "X_train, X_test, y_train, y_test = train_test_split(df_predictions, z, random_state=2)\n",
    "my_knn = KNeighborsClassifier(n_neighbors=k)\n",
    "my_knn.fit(X_train, y_train)\n",
    "y_predict = my_knn.predict(X_test)\n",
    "accuracyKnn = accuracy_score(y_test, y_predict)\n",
    "print(\"Accuracy With KNN\", accuracyKnn)"
   ]
  },
  {
   "cell_type": "markdown",
   "metadata": {},
   "source": [
    "## Neural Networks "
   ]
  },
  {
   "cell_type": "code",
   "execution_count": 167,
   "metadata": {},
   "outputs": [
    {
     "name": "stdout",
     "output_type": "stream",
     "text": [
      "Accuracy With Neural Networks:  0.224555735057\n"
     ]
    }
   ],
   "source": [
    "\n",
    "from  sklearn.neural_network  import MLPClassifier\n",
    "clf = MLPClassifier(solver='lbfgs', alpha=1e-5,hidden_layer_sizes=(5, 2), random_state=1)\n",
    "clf.fit(X_train,y_train)\n",
    "\n",
    "X_train, X_test, y_train, y_test = train_test_split(df_predictions, z, random_state=2)\n",
    "predictions = clf.predict(X_test)\n",
    "predictions\n",
    "accuracyDt = accuracy_score(y_test, predictions)\n",
    "\n",
    "print(\"Accuracy With Neural Networks: \", accuracyDt)"
   ]
  },
  {
   "cell_type": "markdown",
   "metadata": {},
   "source": [
    "## Extra Trees Classifier "
   ]
  },
  {
   "cell_type": "code",
   "execution_count": 168,
   "metadata": {},
   "outputs": [
    {
     "name": "stdout",
     "output_type": "stream",
     "text": [
      "Accuracy With ExtraTreesClassifier:  0.695476575121\n"
     ]
    }
   ],
   "source": [
    "from sklearn.ensemble import ExtraTreesClassifier\n",
    "X_train, X_test, y_train, y_test = train_test_split(df_predictions, z, random_state=3)\n",
    "\n",
    "etc = ExtraTreesClassifier(n_estimators=23, max_depth=None, min_samples_split=15, random_state=2, criterion='entropy')\n",
    "etc.fit(X_train,y_train)\n",
    "\n",
    "predictions_etc = etc.predict(X_test)\n",
    "accuracy_etc = accuracy_score(y_test, predictions_etc)\n",
    "\n",
    "print(\"Accuracy With ExtraTreesClassifier: \", accuracy_etc)"
   ]
  },
  {
   "cell_type": "markdown",
   "metadata": {},
   "source": [
    "## Ada Boost Classifier "
   ]
  },
  {
   "cell_type": "code",
   "execution_count": 126,
   "metadata": {},
   "outputs": [
    {
     "name": "stdout",
     "output_type": "stream",
     "text": [
      "Accuracy by Ada Boost Classifier:  0.692245557351\n"
     ]
    }
   ],
   "source": [
    "from sklearn.ensemble import AdaBoostClassifier\n",
    "\n",
    "X_train, X_test, y_train, y_test = train_test_split(df_predictions, z, random_state=4)\n",
    "\n",
    "dt = DecisionTreeClassifier()\n",
    "clf = AdaBoostClassifier(n_estimators=80, base_estimator=dt,learning_rate=0.001)\n",
    "clf.fit(X_train, y_train)\n",
    "prediction = clf.predict(X_test)\n",
    "acc_score = accuracy_score(y_test, prediction)\n",
    "print(\"Accuracy by Ada Boost Classifier: \", acc_score)"
   ]
  },
  {
   "cell_type": "markdown",
   "metadata": {},
   "source": [
    "## Voting Classifier "
   ]
  },
  {
   "cell_type": "code",
   "execution_count": 141,
   "metadata": {},
   "outputs": [
    {
     "name": "stdout",
     "output_type": "stream",
     "text": [
      "Accuracy With Voting Classifier 0.693053311793\n"
     ]
    }
   ],
   "source": [
    "from sklearn.naive_bayes import GaussianNB\n",
    "\n",
    "X_train, X_test, y_train, y_test = train_test_split(df_predictions, z, random_state=0)\n",
    "\n",
    "rf =  RandomForestClassifier(n_estimators=60)\n",
    "lr =  LogisticRegression(random_state=0)\n",
    "gnb = GaussianNB()\n",
    "\n",
    "model = VotingClassifier(estimators=[('lr', lr), ('rf', rf), ('gnb', gnb)], voting='soft')\n",
    "\n",
    "model.fit(X_train, y_train)\n",
    "\n",
    "x1 =model.score(X_test, y_test) \n",
    "print(\"Accuracy With Voting Classifier\",x1)"
   ]
  },
  {
   "cell_type": "markdown",
   "metadata": {},
   "source": [
    "## Confusion Matrix"
   ]
  },
  {
   "cell_type": "code",
   "execution_count": 12,
   "metadata": {},
   "outputs": [
    {
     "name": "stdout",
     "output_type": "stream",
     "text": [
      "[[ 0  0  0 ...,  2  0  0]\n",
      " [ 0  0  0 ...,  3  0  0]\n",
      " [ 0  0  7 ...,  0  0  0]\n",
      " ..., \n",
      " [ 0  0  3 ...,  7  9  0]\n",
      " [ 0  0  0 ...,  4  9  0]\n",
      " [ 0  0  1 ..., 10  3  0]]\n"
     ]
    }
   ],
   "source": [
    "cm = metrics.confusion_matrix(y_test, y_predict)\n",
    "print(cm)"
   ]
  },
  {
   "cell_type": "markdown",
   "metadata": {},
   "source": [
    "## Calculating the Probability and Saving the file on Disk"
   ]
  },
  {
   "cell_type": "code",
   "execution_count": 171,
   "metadata": {},
   "outputs": [
    {
     "data": {
      "text/html": [
       "<div>\n",
       "<style scoped>\n",
       "    .dataframe tbody tr th:only-of-type {\n",
       "        vertical-align: middle;\n",
       "    }\n",
       "\n",
       "    .dataframe tbody tr th {\n",
       "        vertical-align: top;\n",
       "    }\n",
       "\n",
       "    .dataframe thead th {\n",
       "        text-align: right;\n",
       "    }\n",
       "</style>\n",
       "<table border=\"1\" class=\"dataframe\">\n",
       "  <thead>\n",
       "    <tr style=\"text-align: right;\">\n",
       "      <th></th>\n",
       "      <th>ID</th>\n",
       "      <th>Pred</th>\n",
       "    </tr>\n",
       "  </thead>\n",
       "  <tbody>\n",
       "    <tr>\n",
       "      <th>0</th>\n",
       "      <td>2014_1107_1110</td>\n",
       "      <td>0.463695</td>\n",
       "    </tr>\n",
       "    <tr>\n",
       "      <th>1</th>\n",
       "      <td>2014_1107_1112</td>\n",
       "      <td>0.101363</td>\n",
       "    </tr>\n",
       "    <tr>\n",
       "      <th>2</th>\n",
       "      <td>2014_1107_1113</td>\n",
       "      <td>0.294658</td>\n",
       "    </tr>\n",
       "    <tr>\n",
       "      <th>3</th>\n",
       "      <td>2014_1107_1124</td>\n",
       "      <td>0.189267</td>\n",
       "    </tr>\n",
       "    <tr>\n",
       "      <th>4</th>\n",
       "      <td>2014_1107_1140</td>\n",
       "      <td>0.294658</td>\n",
       "    </tr>\n",
       "  </tbody>\n",
       "</table>\n",
       "</div>"
      ],
      "text/plain": [
       "               ID      Pred\n",
       "0  2014_1107_1110  0.463695\n",
       "1  2014_1107_1112  0.101363\n",
       "2  2014_1107_1113  0.294658\n",
       "3  2014_1107_1124  0.189267\n",
       "4  2014_1107_1140  0.294658"
      ]
     },
     "execution_count": 171,
     "metadata": {},
     "output_type": "execute_result"
    }
   ],
   "source": [
    "preds = clf.predict_proba(X_test)[:,1]\n",
    "#print(preds)\n",
    "clipped_preds = np.clip(preds, 0.05, 0.95)\n",
    "df_sample_sub.Pred = clipped_preds\n",
    "df_sample_sub.head()"
   ]
  },
  {
   "cell_type": "code",
   "execution_count": 37,
   "metadata": {},
   "outputs": [],
   "source": [
    "df_sample_sub.to_csv('FinalPredication2014-2017.csv', index=False)"
   ]
  },
  {
   "cell_type": "markdown",
   "metadata": {},
   "source": [
    "## Graphical Representation "
   ]
  },
  {
   "cell_type": "code",
   "execution_count": 18,
   "metadata": {},
   "outputs": [
    {
     "data": {
      "image/png": "[encoded data removed]",
      "text/plain": [
       "<Figure size 640x480 with 1 Axes>"
      ]
     },
     "metadata": {},
     "output_type": "display_data"
    }
   ],
   "source": [
    "import matplotlib.pyplot as plt; plt.rcdefaults()\n",
    "import numpy as np\n",
    "import matplotlib.pyplot as plt\n",
    " \n",
    "objects = ('LR', 'DT', 'GB', 'SVC', 'RF', 'KNN', 'NN', 'ETC', 'Ad-B','VC')\n",
    "y_pos = np.arange(len(objects))\n",
    "performance = [69.63,67.77, 69.14, 69.22, 70.76, 66.72, 22.45, 69.54, 69.22,69.3]\n",
    " \n",
    "ax =plt.bar(y_pos, performance, align='center', alpha=0.5)\n",
    "plt.xticks(y_pos, objects)\n",
    "plt.ylabel('Accuracy (in Percentage)')\n",
    "plt.xlabel('Classifiers Applied')\n",
    "plt.title('Analysis of Google Cloud & NCAA® ML Competition 2018-Men')\n",
    "\n",
    "plt.show()\n",
    "plt.savefig('Accuracy Comparision.png', format='png')"
   ]
  },
  {
   "cell_type": "code",
   "execution_count": 19,
   "metadata": {},
   "outputs": [
    {
     "data": {
      "text/plain": [
       "<Figure size 640x480 with 0 Axes>"
      ]
     },
     "metadata": {},
     "output_type": "display_data"
    },
    {
     "data": {
      "image/png": "[encoded data removed]",
      "text/plain": [
       "<Figure size 640x480 with 1 Axes>"
      ]
     },
     "metadata": {},
     "output_type": "display_data"
    }
   ],
   "source": [
    "import numpy as np\n",
    "import matplotlib.pyplot as plt\n",
    "\n",
    "n_groups =len(z)\n",
    "Training = df_predictions['SeedDiff']\n",
    "Test = z\n",
    "bar_width = 0.35\n",
    "opacity = 0.8\n",
    "fig, ax = plt.subplots()\n",
    "index = np.arange(n_groups)\n",
    "rects1 = plt.bar(index, Training, align='center', alpha=0.5,color='b', label='Training Data')\n",
    "rects2 = plt.bar(index + bar_width, Test, align='center', alpha=0.5,color='g',label='Testing Data')\n",
    "plt.xlabel('Number of Data Samples')\n",
    "plt.ylabel('Range')\n",
    "plt.title('Plotting Seed for Training and Testing Data ')\n",
    "plt.xticks(index)\n",
    "plt.legend()\n",
    " \n",
    "plt.tight_layout()\n",
    "plt.show()\n",
    "plt.savefig('Testing Training Together.png', format='png')"
   ]
  },
  {
   "cell_type": "code",
   "execution_count": 140,
   "metadata": {},
   "outputs": [
    {
     "data": {
      "image/png": "[encoded data removed]",
      "text/plain": [
       "<Figure size 640x480 with 1 Axes>"
      ]
     },
     "metadata": {},
     "output_type": "display_data"
    }
   ],
   "source": [
    "import matplotlib.pyplot as plt; plt.rcdefaults()\n",
    "import numpy as np\n",
    "import matplotlib.pyplot as plt\n",
    "\n",
    "y_pos = np.arange(len(df_predictions['SeedDiff']))\n",
    "performance = df_predictions['SeedDiff']\n",
    "plt.bar(y_pos, performance, align='center', alpha=0.5,color='b')\n",
    "plt.xticks(y_pos)\n",
    "plt.xlabel('Number of Data Samples')\n",
    "plt.ylabel('Range')\n",
    "plt.title('Plotting Seed for Training data')\n",
    "plt.show()"
   ]
  },
  {
   "cell_type": "code",
   "execution_count": 137,
   "metadata": {},
   "outputs": [
    {
     "data": {
      "image/png": "[encoded data removed]",
      "text/plain": [
       "<Figure size 640x480 with 1 Axes>"
      ]
     },
     "metadata": {},
     "output_type": "display_data"
    }
   ],
   "source": [
    "import matplotlib.pyplot as plt; plt.rcdefaults()\n",
    "import numpy as np\n",
    "import matplotlib.pyplot as plt\n",
    "\n",
    "y_pos = np.arange(len(z))\n",
    "performance = z\n",
    "plt.bar(y_pos, performance, align='center', alpha=0.5,color='g')\n",
    "plt.xticks(y_pos)\n",
    "plt.xlabel('Number of Data Samples')\n",
    "plt.ylabel('Range')\n",
    "plt.title('Plotting Seed for Testing data')\n",
    "plt.show()"
   ]
  }
 ],
 "metadata": {
  "kernelspec": {
   "display_name": "Python 3",
   "language": "python",
   "name": "python3"
  },
  "language_info": {
   "codemirror_mode": {
    "name": "ipython",
    "version": 3
   },
   "file_extension": ".py",
   "mimetype": "text/x-python",
   "name": "python",
   "nbconvert_exporter": "python",
   "pygments_lexer": "ipython3",
   "version": "3.5.5"
  }
 },
 "nbformat": 4,
 "nbformat_minor": 2
}
